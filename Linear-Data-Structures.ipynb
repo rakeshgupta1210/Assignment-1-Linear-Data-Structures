{
  "metadata": {
    "language_info": {
      "codemirror_mode": {
        "name": "python",
        "version": 3
      },
      "file_extension": ".py",
      "mimetype": "text/x-python",
      "name": "python",
      "nbconvert_exporter": "python",
      "pygments_lexer": "ipython3",
      "version": "3.8"
    },
    "kernelspec": {
      "name": "python",
      "display_name": "Python (Pyodide)",
      "language": "python"
    }
  },
  "nbformat_minor": 4,
  "nbformat": 4,
  "cells": [
    {
      "cell_type": "code",
      "source": "# Q1. Write a program to find all pairs of an integer array whose sum is equal to a given number?\n\n\ndef getPairsCount(arr, n, sum):\n    count = 0\n    for i in range(0, n):\n        for j in range(i + 1, n):\n            if arr[i] + arr[j] == sum:\n                count += 1\n\n    return count\narr = [1, 5, 7, -1, 5]\nn = len(arr)\nsum = 6\nprint(\"Count of pairs is\",\n\tgetPairsCount(arr, n, sum))",
      "metadata": {
        "trusted": true
      },
      "execution_count": 2,
      "outputs": [
        {
          "name": "stdout",
          "text": "Count of pairs is 3\n",
          "output_type": "stream"
        }
      ]
    },
    {
      "cell_type": "code",
      "source": "# Q2. Write a program to reverse an array in place? In place means you cannot create a new array. You have to update the original array.\n\n\ndef reverseList(A, start, end):\n    while start < end:\n        A[start], A[end] = A[end], A[start]\n        start += 1\n        end -= 1\n\nA = [1, 2, 3, 4, 5, 6]\nprint(A)\nreverseList(A, 0, 5)\nprint(\"Reversed list is\")\nprint(A)",
      "metadata": {
        "trusted": true
      },
      "execution_count": 3,
      "outputs": [
        {
          "name": "stdout",
          "text": "[1, 2, 3, 4, 5, 6]\nReversed list is\n[6, 5, 4, 3, 2, 1]\n",
          "output_type": "stream"
        }
      ]
    },
    {
      "cell_type": "code",
      "source": "# Q3. Write a program to check if two strings are a rotation of each other?\n\n\ndef areRotations(string1, string2):\n    size1 = len(string1)\n    size2 = len(string2)\n    temp = ''\n    if size1 != size2:\n        return 0\n    temp = string1 + string1\n    if (temp.count(string2)> 0):\n        return 1\n    else:\n        return 0\nstring1 = \"AACD\"\nstring2 = \"ACDA\"\n\nif areRotations(string1, string2):\n    print (\"Strings are rotations of each other\")\nelse:\n    print (\"Strings are not rotations of each other\")",
      "metadata": {
        "trusted": true
      },
      "execution_count": 4,
      "outputs": [
        {
          "name": "stdout",
          "text": "Strings are rotations of each other\n",
          "output_type": "stream"
        }
      ]
    },
    {
      "cell_type": "code",
      "source": "# Q.4. Write a program to print the first non-repeated character from a string?\n\nNO_OF_CHARS = 256\ndef getCharCountArray(string):\n    count = [0] * NO_OF_CHARS\n    for i in string:\n        count[ord(i)]+= 1\n        return count\n\ndef firstNonRepeating(string):\n    count = getCharCountArray(string)\n    index = -1\n    k = 0\n    for i in string:\n        if count[ord(i)] == 1:\n            index = k\n            break\n        k += 1\n            \n    return index\n\nstring = \"geeksforgeeks\"\nindex = firstNonRepeating(string)\nif index == 1:\n    print (\"Either all characters are repeating or string is empty\")\nelse:\n    print (\"First non-repeating character is\" , string[index])",
      "metadata": {
        "trusted": true
      },
      "execution_count": 5,
      "outputs": [
        {
          "name": "stdout",
          "text": "First non-repeating character is g\n",
          "output_type": "stream"
        }
      ]
    },
    {
      "cell_type": "code",
      "source": "# Q5. Read about the Tower of Hanoi algorithm. Write a program to implement it.\n\ndef TowerOfHanoi(n , from_rod, to_rod, aux_rod):\n    if n == 0:\n        return\n    TowerOfHanoi(n-1, from_rod, aux_rod, to_rod)\n    print(\"Move disk\",n,\"from rod\",from_rod,\"to rod\",to_rod)\n    TowerOfHanoi(n-1, aux_rod, to_rod, from_rod)\n\nn = 4\nTowerOfHanoi(n, 'A', 'C', 'B')",
      "metadata": {
        "trusted": true
      },
      "execution_count": 6,
      "outputs": [
        {
          "name": "stdout",
          "text": "Move disk 1 from rod A to rod B\nMove disk 2 from rod A to rod C\nMove disk 1 from rod B to rod C\nMove disk 3 from rod A to rod B\nMove disk 1 from rod C to rod A\nMove disk 2 from rod C to rod B\nMove disk 1 from rod A to rod B\nMove disk 4 from rod A to rod C\nMove disk 1 from rod B to rod C\nMove disk 2 from rod B to rod A\nMove disk 1 from rod C to rod A\nMove disk 3 from rod B to rod C\nMove disk 1 from rod A to rod B\nMove disk 2 from rod A to rod C\nMove disk 1 from rod B to rod C\n",
          "output_type": "stream"
        }
      ]
    },
    {
      "cell_type": "code",
      "source": "# Q6. Read about infix, prefix, and postfix expressions. Write a program to convert postfix to prefix expression.\n\ndef isOperator(x):\n    if x == \"+\":\n        return True\n    if x == \"-\":\n        return True\n    if x == \"/\":\n        return True\n    if x == \"*\":\n        return True\n    return False\n\ndef postToPre(post_exp):\n    s = []\n    length = len(post_exp)\n    for i in range(length):\n        if (isOperator(post_exp[i])):\n            op1 = s[-1]\n            s.pop()\n            op2 = s[-1]\n            s.pop()\n            temp = post_exp[i] + op2 + op1\n            s.append(temp)\n        else:\n            s.append(post_exp[i])\n            ans = \"\"\n    for i in s:\n        ans += i\n        return ans\n\n\nif __name__ == \"__main__\":\n    post_exp = \"AB+CD-\"\n    print(\"Prefix : \", postToPre(post_exp))",
      "metadata": {
        "trusted": true
      },
      "execution_count": 7,
      "outputs": [
        {
          "name": "stdout",
          "text": "Prefix :  +AB\n",
          "output_type": "stream"
        }
      ]
    },
    {
      "cell_type": "code",
      "source": "# Q7. Write a program to convert prefix expression to infix expression.\n\ndef prefixToInfix(prefix):\n    stack = []\n    i = len(prefix) - 1\n    while i >= 0:\n        if not isOperator(prefix[i]):\n            stack.append(prefix[i])\n            i -= 1\n        else:\n            str = \"(\" + stack.pop() + prefix[i] + stack.pop() + \")\"\n            stack.append(str)\n            i -= 1\n    return stack.pop()\n\ndef isOperator(c):\n    if c == \"*\" or c == \"+\" or c == \"-\" or c == \"/\" or c == \"^\" or c == \"(\" or c == \")\":\n        return True\n    else:\n        return False\n\nif __name__==\"__main__\":\n    str = \"*-A/BC-/AKL\"\n    print(prefixToInfix(str))",
      "metadata": {
        "trusted": true
      },
      "execution_count": 8,
      "outputs": [
        {
          "name": "stdout",
          "text": "((A-(B/C))*((A/K)-L))\n",
          "output_type": "stream"
        }
      ]
    },
    {
      "cell_type": "code",
      "source": "# Q8. Write a program to check if all the brackets are closed in a given code snippet.\n\ndef areBracketsBalanced(expr):\n    stack = []\n    for char in expr:\n        if char in [\"(\", \"{\", \"[\"]:\n            stack.append(char)\n        else:\n            if not stack:\n                return False\n            current_char = stack.pop()\n            if current_char == '(':\n                if char != \")\":\n                    return False\n            if current_char == '{':\n                if char != \"}\":\n                    return False\n            if current_char == '[':\n                if char != \"]\":\n                    return False\n    if stack:\n        return False\n    return True\nif __name__ == \"__main__\":\n    expr = \"{()}[]\"\n    if areBracketsBalanced(expr):\n        print(\"Balanced\")\n    else:\n        print(\"Not Balanced\")",
      "metadata": {
        "trusted": true
      },
      "execution_count": 9,
      "outputs": [
        {
          "name": "stdout",
          "text": "Balanced\n",
          "output_type": "stream"
        }
      ]
    },
    {
      "cell_type": "code",
      "source": "# Q9. Write a program to reverse a stack.\n\nclass Stack:\n    def __init__(self):\n        self.Elements = []\n    def push(self, value):\n        self.Elements.append(value)\n    def pop(self):\n        return self.Elements.pop()\n    def empty(self):\n        return self.Elements == []\n    def show(self):\n        for value in reversed(self.Elements):\n            print(value)\n\ndef BottomInsert(s, value):\n    if s.empty():\n        s.push(value)\n    else:\n        popped = s.pop()\n        BottomInsert(s, value)\n        s.push(popped)\n\ndef Reverse(s):\n    if s.empty():\n        pass\n    else:\n        popped = s.pop()\n        Reverse(s)\n        BottomInsert(s, popped)\n\n\nstk = Stack()\n\nstk.push(1)\nstk.push(2)\nstk.push(3)\nstk.push(4)\nstk.push(5)\n\nprint(\"Original Stack\")\nstk.show()\n\nprint(\"\\nStack after Reversing\")\nReverse(stk)\nstk.show()",
      "metadata": {
        "trusted": true
      },
      "execution_count": 10,
      "outputs": [
        {
          "name": "stdout",
          "text": "Original Stack\n5\n4\n3\n2\n1\n\nStack after Reversing\n1\n2\n3\n4\n5\n",
          "output_type": "stream"
        }
      ]
    },
    {
      "cell_type": "code",
      "source": "# Q10. Write a program to find the smallest number using a stack.\n\nimport math\n\ndef print2Smallest(arr):\n    arr_size = len(arr)\n    if arr_size < 2:\n        print (\"Invalid Input\")\n        return\n    first = second = math.inf\n    for i in range(0, arr_size):\n        if arr[i] < first:\n            second = first\n            first = arr[i]\n        elif (arr[i] < second and arr[i] != first):\n            second = arr[i];\n    if (second == math.inf):\n        print (\"No second smallest element\")\n    else:\n        print ('The smallest element is',first,'and', \\\n               ' second smallest element is',second)\n\narr = [12, 13, 1, 10, 34, 1]\nprint2Smallest(arr)",
      "metadata": {
        "trusted": true
      },
      "execution_count": 11,
      "outputs": [
        {
          "name": "stdout",
          "text": "The smallest element is 1 and  second smallest element is 10\n",
          "output_type": "stream"
        }
      ]
    },
    {
      "cell_type": "code",
      "source": "",
      "metadata": {},
      "execution_count": null,
      "outputs": []
    }
  ]
}